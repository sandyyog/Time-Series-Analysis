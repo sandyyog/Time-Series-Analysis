{
 "cells": [
  {
   "cell_type": "code",
   "execution_count": 24,
   "id": "82630c34",
   "metadata": {},
   "outputs": [
    {
     "data": {
      "text/html": [
       "<div>\n",
       "<style scoped>\n",
       "    .dataframe tbody tr th:only-of-type {\n",
       "        vertical-align: middle;\n",
       "    }\n",
       "\n",
       "    .dataframe tbody tr th {\n",
       "        vertical-align: top;\n",
       "    }\n",
       "\n",
       "    .dataframe thead th {\n",
       "        text-align: right;\n",
       "    }\n",
       "</style>\n",
       "<table border=\"1\" class=\"dataframe\">\n",
       "  <thead>\n",
       "    <tr style=\"text-align: right;\">\n",
       "      <th></th>\n",
       "      <th>Month</th>\n",
       "      <th>#Passengers</th>\n",
       "    </tr>\n",
       "  </thead>\n",
       "  <tbody>\n",
       "    <tr>\n",
       "      <th>0</th>\n",
       "      <td>2003-01</td>\n",
       "      <td>112</td>\n",
       "    </tr>\n",
       "    <tr>\n",
       "      <th>1</th>\n",
       "      <td>2003-02</td>\n",
       "      <td>118</td>\n",
       "    </tr>\n",
       "    <tr>\n",
       "      <th>2</th>\n",
       "      <td>2003-03</td>\n",
       "      <td>132</td>\n",
       "    </tr>\n",
       "    <tr>\n",
       "      <th>3</th>\n",
       "      <td>2003-04</td>\n",
       "      <td>129</td>\n",
       "    </tr>\n",
       "    <tr>\n",
       "      <th>4</th>\n",
       "      <td>2003-05</td>\n",
       "      <td>121</td>\n",
       "    </tr>\n",
       "    <tr>\n",
       "      <th>...</th>\n",
       "      <td>...</td>\n",
       "      <td>...</td>\n",
       "    </tr>\n",
       "    <tr>\n",
       "      <th>139</th>\n",
       "      <td>2015-08</td>\n",
       "      <td>606</td>\n",
       "    </tr>\n",
       "    <tr>\n",
       "      <th>140</th>\n",
       "      <td>2015-09</td>\n",
       "      <td>508</td>\n",
       "    </tr>\n",
       "    <tr>\n",
       "      <th>141</th>\n",
       "      <td>2015-10</td>\n",
       "      <td>461</td>\n",
       "    </tr>\n",
       "    <tr>\n",
       "      <th>142</th>\n",
       "      <td>2015-11</td>\n",
       "      <td>390</td>\n",
       "    </tr>\n",
       "    <tr>\n",
       "      <th>143</th>\n",
       "      <td>2015-12</td>\n",
       "      <td>432</td>\n",
       "    </tr>\n",
       "  </tbody>\n",
       "</table>\n",
       "<p>144 rows × 2 columns</p>\n",
       "</div>"
      ],
      "text/plain": [
       "       Month  #Passengers\n",
       "0    2003-01          112\n",
       "1    2003-02          118\n",
       "2    2003-03          132\n",
       "3    2003-04          129\n",
       "4    2003-05          121\n",
       "..       ...          ...\n",
       "139  2015-08          606\n",
       "140  2015-09          508\n",
       "141  2015-10          461\n",
       "142  2015-11          390\n",
       "143  2015-12          432\n",
       "\n",
       "[144 rows x 2 columns]"
      ]
     },
     "execution_count": 24,
     "metadata": {},
     "output_type": "execute_result"
    }
   ],
   "source": [
    "import pandas as pd\n",
    "df=pd.read_csv('SeaPlaneTravel.csv')\n",
    "df"
   ]
  },
  {
   "cell_type": "code",
   "execution_count": 25,
   "id": "5a80f9b9",
   "metadata": {},
   "outputs": [
    {
     "data": {
      "text/plain": [
       "<AxesSubplot:>"
      ]
     },
     "execution_count": 25,
     "metadata": {},
     "output_type": "execute_result"
    },
    {
     "data": {
      "image/png": "[encoded data removed]",
      "text/plain": [
       "<Figure size 432x288 with 1 Axes>"
      ]
     },
     "metadata": {
      "needs_background": "light"
     },
     "output_type": "display_data"
    }
   ],
   "source": [
    "df.plot()"
   ]
  },
  {
   "cell_type": "code",
   "execution_count": 26,
   "id": "3260a911",
   "metadata": {},
   "outputs": [
    {
     "data": {
      "text/plain": [
       "0     2003-01-01\n",
       "1     2003-02-01\n",
       "2     2003-03-01\n",
       "3     2003-04-01\n",
       "4     2003-05-01\n",
       "         ...    \n",
       "139   2015-08-01\n",
       "140   2015-09-01\n",
       "141   2015-10-01\n",
       "142   2015-11-01\n",
       "143   2015-12-01\n",
       "Name: Month, Length: 144, dtype: datetime64[ns]"
      ]
     },
     "execution_count": 26,
     "metadata": {},
     "output_type": "execute_result"
    }
   ],
   "source": [
    "df['Month']=pd.to_datetime(df['Month'])\n",
    "df['Month']"
   ]
  },
  {
   "cell_type": "code",
   "execution_count": 27,
   "id": "90b8a4bd",
   "metadata": {},
   "outputs": [
    {
     "data": {
      "text/html": [
       "<div>\n",
       "<style scoped>\n",
       "    .dataframe tbody tr th:only-of-type {\n",
       "        vertical-align: middle;\n",
       "    }\n",
       "\n",
       "    .dataframe tbody tr th {\n",
       "        vertical-align: top;\n",
       "    }\n",
       "\n",
       "    .dataframe thead th {\n",
       "        text-align: right;\n",
       "    }\n",
       "</style>\n",
       "<table border=\"1\" class=\"dataframe\">\n",
       "  <thead>\n",
       "    <tr style=\"text-align: right;\">\n",
       "      <th></th>\n",
       "      <th>Month</th>\n",
       "      <th>#Passengers</th>\n",
       "    </tr>\n",
       "  </thead>\n",
       "  <tbody>\n",
       "    <tr>\n",
       "      <th>0</th>\n",
       "      <td>2003-01-01</td>\n",
       "      <td>112</td>\n",
       "    </tr>\n",
       "    <tr>\n",
       "      <th>1</th>\n",
       "      <td>2003-02-01</td>\n",
       "      <td>118</td>\n",
       "    </tr>\n",
       "    <tr>\n",
       "      <th>2</th>\n",
       "      <td>2003-03-01</td>\n",
       "      <td>132</td>\n",
       "    </tr>\n",
       "    <tr>\n",
       "      <th>3</th>\n",
       "      <td>2003-04-01</td>\n",
       "      <td>129</td>\n",
       "    </tr>\n",
       "    <tr>\n",
       "      <th>4</th>\n",
       "      <td>2003-05-01</td>\n",
       "      <td>121</td>\n",
       "    </tr>\n",
       "    <tr>\n",
       "      <th>...</th>\n",
       "      <td>...</td>\n",
       "      <td>...</td>\n",
       "    </tr>\n",
       "    <tr>\n",
       "      <th>139</th>\n",
       "      <td>2015-08-01</td>\n",
       "      <td>606</td>\n",
       "    </tr>\n",
       "    <tr>\n",
       "      <th>140</th>\n",
       "      <td>2015-09-01</td>\n",
       "      <td>508</td>\n",
       "    </tr>\n",
       "    <tr>\n",
       "      <th>141</th>\n",
       "      <td>2015-10-01</td>\n",
       "      <td>461</td>\n",
       "    </tr>\n",
       "    <tr>\n",
       "      <th>142</th>\n",
       "      <td>2015-11-01</td>\n",
       "      <td>390</td>\n",
       "    </tr>\n",
       "    <tr>\n",
       "      <th>143</th>\n",
       "      <td>2015-12-01</td>\n",
       "      <td>432</td>\n",
       "    </tr>\n",
       "  </tbody>\n",
       "</table>\n",
       "<p>144 rows × 2 columns</p>\n",
       "</div>"
      ],
      "text/plain": [
       "         Month  #Passengers\n",
       "0   2003-01-01          112\n",
       "1   2003-02-01          118\n",
       "2   2003-03-01          132\n",
       "3   2003-04-01          129\n",
       "4   2003-05-01          121\n",
       "..         ...          ...\n",
       "139 2015-08-01          606\n",
       "140 2015-09-01          508\n",
       "141 2015-10-01          461\n",
       "142 2015-11-01          390\n",
       "143 2015-12-01          432\n",
       "\n",
       "[144 rows x 2 columns]"
      ]
     },
     "execution_count": 27,
     "metadata": {},
     "output_type": "execute_result"
    }
   ],
   "source": [
    "df"
   ]
  },
  {
   "cell_type": "code",
   "execution_count": 28,
   "id": "faba7a37",
   "metadata": {},
   "outputs": [],
   "source": [
    "df.set_index('Month',inplace=True)\n"
   ]
  },
  {
   "cell_type": "code",
   "execution_count": 29,
   "id": "72f4be20",
   "metadata": {},
   "outputs": [
    {
     "data": {
      "text/plain": [
       "<AxesSubplot:xlabel='Month'>"
      ]
     },
     "execution_count": 29,
     "metadata": {},
     "output_type": "execute_result"
    },
    {
     "data": {
      "image/png": "[encoded data removed]",
      "text/plain": [
       "<Figure size 432x288 with 1 Axes>"
      ]
     },
     "metadata": {
      "needs_background": "light"
     },
     "output_type": "display_data"
    }
   ],
   "source": [
    "df.plot()"
   ]
  },
  {
   "cell_type": "code",
   "execution_count": 30,
   "id": "320d4d9d",
   "metadata": {},
   "outputs": [
    {
     "name": "stderr",
     "output_type": "stream",
     "text": [
      "C:\\Users\\hp\\AppData\\Local\\Temp/ipykernel_9000/4054138434.py:2: FutureWarning: the 'freq'' keyword is deprecated, use 'period' instead\n",
      "  decom=seasonal_decompose(df['#Passengers'],freq=12)\n"
     ]
    },
    {
     "data": {
      "image/png": "[encoded data removed]",
      "text/plain": [
       "<Figure size 432x288 with 4 Axes>"
      ]
     },
     "execution_count": 30,
     "metadata": {},
     "output_type": "execute_result"
    },
    {
     "data": {
      "image/png": "[encoded data removed]",
      "text/plain": [
       "<Figure size 432x288 with 4 Axes>"
      ]
     },
     "metadata": {
      "needs_background": "light"
     },
     "output_type": "display_data"
    }
   ],
   "source": [
    "from statsmodels.tsa.seasonal import seasonal_decompose\n",
    "decom=seasonal_decompose(df['#Passengers'],freq=12)\n",
    "decom.plot()"
   ]
  },
  {
   "cell_type": "code",
   "execution_count": 31,
   "id": "12c678a3",
   "metadata": {},
   "outputs": [
    {
     "data": {
      "text/plain": [
       "(0.8153688792060552,\n",
       " 0.9918802434376411,\n",
       " 13,\n",
       " 130,\n",
       " {'1%': -3.4816817173418295,\n",
       "  '5%': -2.8840418343195267,\n",
       "  '10%': -2.578770059171598},\n",
       " 996.692930839019)"
      ]
     },
     "execution_count": 31,
     "metadata": {},
     "output_type": "execute_result"
    }
   ],
   "source": [
    "from statsmodels.tsa.stattools import adfuller\n",
    "adfuller(df['#Passengers'])"
   ]
  },
  {
   "cell_type": "code",
   "execution_count": 32,
   "id": "754d1520",
   "metadata": {},
   "outputs": [],
   "source": [
    "def check(time_series):\n",
    "    result=adfuller(time_series)\n",
    "    print('ADF TEST DETAILS')\n",
    "    labels=['adf test statistic','p.value','#lags','no.of obs']\n",
    "    for value,label in zip(result,labels):\n",
    "        print(label+':'+str(value))\n",
    "    if result[1]<=0.05:\n",
    "        print('stationarity')\n",
    "    else:\n",
    "        print('Not stationarity')"
   ]
  },
  {
   "cell_type": "code",
   "execution_count": 33,
   "id": "4ffe3e39",
   "metadata": {},
   "outputs": [
    {
     "name": "stdout",
     "output_type": "stream",
     "text": [
      "ADF TEST DETAILS\n",
      "adf test statistic:0.8153688792060552\n",
      "p.value:0.9918802434376411\n",
      "#lags:13\n",
      "no.of obs:130\n",
      "Not stationarity\n"
     ]
    }
   ],
   "source": [
    "check(df['#Passengers'])"
   ]
  },
  {
   "cell_type": "code",
   "execution_count": 34,
   "id": "29980526",
   "metadata": {},
   "outputs": [],
   "source": [
    "df['#Passengers first diff']=df['#Passengers']-df['#Passengers'].shift(1)"
   ]
  },
  {
   "cell_type": "code",
   "execution_count": 35,
   "id": "cfc407c1",
   "metadata": {},
   "outputs": [
    {
     "data": {
      "text/html": [
       "<div>\n",
       "<style scoped>\n",
       "    .dataframe tbody tr th:only-of-type {\n",
       "        vertical-align: middle;\n",
       "    }\n",
       "\n",
       "    .dataframe tbody tr th {\n",
       "        vertical-align: top;\n",
       "    }\n",
       "\n",
       "    .dataframe thead th {\n",
       "        text-align: right;\n",
       "    }\n",
       "</style>\n",
       "<table border=\"1\" class=\"dataframe\">\n",
       "  <thead>\n",
       "    <tr style=\"text-align: right;\">\n",
       "      <th></th>\n",
       "      <th>#Passengers</th>\n",
       "      <th>#Passengers first diff</th>\n",
       "    </tr>\n",
       "    <tr>\n",
       "      <th>Month</th>\n",
       "      <th></th>\n",
       "      <th></th>\n",
       "    </tr>\n",
       "  </thead>\n",
       "  <tbody>\n",
       "    <tr>\n",
       "      <th>2003-01-01</th>\n",
       "      <td>112</td>\n",
       "      <td>NaN</td>\n",
       "    </tr>\n",
       "    <tr>\n",
       "      <th>2003-02-01</th>\n",
       "      <td>118</td>\n",
       "      <td>6.0</td>\n",
       "    </tr>\n",
       "    <tr>\n",
       "      <th>2003-03-01</th>\n",
       "      <td>132</td>\n",
       "      <td>14.0</td>\n",
       "    </tr>\n",
       "    <tr>\n",
       "      <th>2003-04-01</th>\n",
       "      <td>129</td>\n",
       "      <td>-3.0</td>\n",
       "    </tr>\n",
       "    <tr>\n",
       "      <th>2003-05-01</th>\n",
       "      <td>121</td>\n",
       "      <td>-8.0</td>\n",
       "    </tr>\n",
       "    <tr>\n",
       "      <th>...</th>\n",
       "      <td>...</td>\n",
       "      <td>...</td>\n",
       "    </tr>\n",
       "    <tr>\n",
       "      <th>2015-08-01</th>\n",
       "      <td>606</td>\n",
       "      <td>-16.0</td>\n",
       "    </tr>\n",
       "    <tr>\n",
       "      <th>2015-09-01</th>\n",
       "      <td>508</td>\n",
       "      <td>-98.0</td>\n",
       "    </tr>\n",
       "    <tr>\n",
       "      <th>2015-10-01</th>\n",
       "      <td>461</td>\n",
       "      <td>-47.0</td>\n",
       "    </tr>\n",
       "    <tr>\n",
       "      <th>2015-11-01</th>\n",
       "      <td>390</td>\n",
       "      <td>-71.0</td>\n",
       "    </tr>\n",
       "    <tr>\n",
       "      <th>2015-12-01</th>\n",
       "      <td>432</td>\n",
       "      <td>42.0</td>\n",
       "    </tr>\n",
       "  </tbody>\n",
       "</table>\n",
       "<p>144 rows × 2 columns</p>\n",
       "</div>"
      ],
      "text/plain": [
       "            #Passengers  #Passengers first diff\n",
       "Month                                          \n",
       "2003-01-01          112                     NaN\n",
       "2003-02-01          118                     6.0\n",
       "2003-03-01          132                    14.0\n",
       "2003-04-01          129                    -3.0\n",
       "2003-05-01          121                    -8.0\n",
       "...                 ...                     ...\n",
       "2015-08-01          606                   -16.0\n",
       "2015-09-01          508                   -98.0\n",
       "2015-10-01          461                   -47.0\n",
       "2015-11-01          390                   -71.0\n",
       "2015-12-01          432                    42.0\n",
       "\n",
       "[144 rows x 2 columns]"
      ]
     },
     "execution_count": 35,
     "metadata": {},
     "output_type": "execute_result"
    }
   ],
   "source": [
    "df"
   ]
  },
  {
   "cell_type": "code",
   "execution_count": 36,
   "id": "9f90ab60",
   "metadata": {},
   "outputs": [
    {
     "name": "stdout",
     "output_type": "stream",
     "text": [
      "ADF TEST DETAILS\n",
      "adf test statistic:-2.8292668241699905\n",
      "p.value:0.05421329028382671\n",
      "#lags:12\n",
      "no.of obs:130\n",
      "Not stationarity\n"
     ]
    }
   ],
   "source": [
    "check(df['#Passengers first diff'].dropna())"
   ]
  },
  {
   "cell_type": "code",
   "execution_count": 37,
   "id": "4c6ba0ee",
   "metadata": {},
   "outputs": [],
   "source": [
    "df['#Passengers second diff']=df['#Passengers first diff']-df['#Passengers first diff'].shift(1)"
   ]
  },
  {
   "cell_type": "code",
   "execution_count": 38,
   "id": "fa7dccbe",
   "metadata": {},
   "outputs": [
    {
     "data": {
      "text/html": [
       "<div>\n",
       "<style scoped>\n",
       "    .dataframe tbody tr th:only-of-type {\n",
       "        vertical-align: middle;\n",
       "    }\n",
       "\n",
       "    .dataframe tbody tr th {\n",
       "        vertical-align: top;\n",
       "    }\n",
       "\n",
       "    .dataframe thead th {\n",
       "        text-align: right;\n",
       "    }\n",
       "</style>\n",
       "<table border=\"1\" class=\"dataframe\">\n",
       "  <thead>\n",
       "    <tr style=\"text-align: right;\">\n",
       "      <th></th>\n",
       "      <th>#Passengers</th>\n",
       "      <th>#Passengers first diff</th>\n",
       "      <th>#Passengers second diff</th>\n",
       "    </tr>\n",
       "    <tr>\n",
       "      <th>Month</th>\n",
       "      <th></th>\n",
       "      <th></th>\n",
       "      <th></th>\n",
       "    </tr>\n",
       "  </thead>\n",
       "  <tbody>\n",
       "    <tr>\n",
       "      <th>2003-01-01</th>\n",
       "      <td>112</td>\n",
       "      <td>NaN</td>\n",
       "      <td>NaN</td>\n",
       "    </tr>\n",
       "    <tr>\n",
       "      <th>2003-02-01</th>\n",
       "      <td>118</td>\n",
       "      <td>6.0</td>\n",
       "      <td>NaN</td>\n",
       "    </tr>\n",
       "    <tr>\n",
       "      <th>2003-03-01</th>\n",
       "      <td>132</td>\n",
       "      <td>14.0</td>\n",
       "      <td>8.0</td>\n",
       "    </tr>\n",
       "    <tr>\n",
       "      <th>2003-04-01</th>\n",
       "      <td>129</td>\n",
       "      <td>-3.0</td>\n",
       "      <td>-17.0</td>\n",
       "    </tr>\n",
       "    <tr>\n",
       "      <th>2003-05-01</th>\n",
       "      <td>121</td>\n",
       "      <td>-8.0</td>\n",
       "      <td>-5.0</td>\n",
       "    </tr>\n",
       "    <tr>\n",
       "      <th>...</th>\n",
       "      <td>...</td>\n",
       "      <td>...</td>\n",
       "      <td>...</td>\n",
       "    </tr>\n",
       "    <tr>\n",
       "      <th>2015-08-01</th>\n",
       "      <td>606</td>\n",
       "      <td>-16.0</td>\n",
       "      <td>-103.0</td>\n",
       "    </tr>\n",
       "    <tr>\n",
       "      <th>2015-09-01</th>\n",
       "      <td>508</td>\n",
       "      <td>-98.0</td>\n",
       "      <td>-82.0</td>\n",
       "    </tr>\n",
       "    <tr>\n",
       "      <th>2015-10-01</th>\n",
       "      <td>461</td>\n",
       "      <td>-47.0</td>\n",
       "      <td>51.0</td>\n",
       "    </tr>\n",
       "    <tr>\n",
       "      <th>2015-11-01</th>\n",
       "      <td>390</td>\n",
       "      <td>-71.0</td>\n",
       "      <td>-24.0</td>\n",
       "    </tr>\n",
       "    <tr>\n",
       "      <th>2015-12-01</th>\n",
       "      <td>432</td>\n",
       "      <td>42.0</td>\n",
       "      <td>113.0</td>\n",
       "    </tr>\n",
       "  </tbody>\n",
       "</table>\n",
       "<p>144 rows × 3 columns</p>\n",
       "</div>"
      ],
      "text/plain": [
       "            #Passengers  #Passengers first diff  #Passengers second diff\n",
       "Month                                                                   \n",
       "2003-01-01          112                     NaN                      NaN\n",
       "2003-02-01          118                     6.0                      NaN\n",
       "2003-03-01          132                    14.0                      8.0\n",
       "2003-04-01          129                    -3.0                    -17.0\n",
       "2003-05-01          121                    -8.0                     -5.0\n",
       "...                 ...                     ...                      ...\n",
       "2015-08-01          606                   -16.0                   -103.0\n",
       "2015-09-01          508                   -98.0                    -82.0\n",
       "2015-10-01          461                   -47.0                     51.0\n",
       "2015-11-01          390                   -71.0                    -24.0\n",
       "2015-12-01          432                    42.0                    113.0\n",
       "\n",
       "[144 rows x 3 columns]"
      ]
     },
     "execution_count": 38,
     "metadata": {},
     "output_type": "execute_result"
    }
   ],
   "source": [
    "df"
   ]
  },
  {
   "cell_type": "code",
   "execution_count": 39,
   "id": "beaea5ba",
   "metadata": {},
   "outputs": [
    {
     "name": "stdout",
     "output_type": "stream",
     "text": [
      "ADF TEST DETAILS\n",
      "adf test statistic:-16.384231542468516\n",
      "p.value:2.7328918500141235e-29\n",
      "#lags:11\n",
      "no.of obs:130\n",
      "stationarity\n"
     ]
    }
   ],
   "source": [
    "check(df['#Passengers second diff'].dropna())"
   ]
  },
  {
   "cell_type": "code",
   "execution_count": 40,
   "id": "b356e49a",
   "metadata": {},
   "outputs": [],
   "source": [
    "df['seasonal first diff']=df['#Passengers']-df['#Passengers'].shift(12)"
   ]
  },
  {
   "cell_type": "code",
   "execution_count": 41,
   "id": "bedb5681",
   "metadata": {},
   "outputs": [
    {
     "name": "stdout",
     "output_type": "stream",
     "text": [
      "            #Passengers  #Passengers first diff  #Passengers second diff  seasonal first diff\n",
      "Month                                                                                        \n",
      "2003-01-01          112                     NaN                      NaN                  NaN\n",
      "2003-02-01          118                     6.0                      NaN                  NaN\n",
      "2003-03-01          132                    14.0                      8.0                  NaN\n",
      "2003-04-01          129                    -3.0                    -17.0                  NaN\n",
      "2003-05-01          121                    -8.0                     -5.0                  NaN\n",
      "2003-06-01          135                    14.0                     22.0                  NaN\n",
      "2003-07-01          148                    13.0                     -1.0                  NaN\n",
      "2003-08-01          148                     0.0                    -13.0                  NaN\n",
      "2003-09-01          136                   -12.0                    -12.0                  NaN\n",
      "2003-10-01          119                   -17.0                     -5.0                  NaN\n",
      "2003-11-01          104                   -15.0                      2.0                  NaN\n",
      "2003-12-01          118                    14.0                     29.0                  NaN\n",
      "2004-01-01          115                    -3.0                    -17.0                  3.0\n",
      "2004-02-01          126                    11.0                     14.0                  8.0\n",
      "2004-03-01          141                    15.0                      4.0                  9.0\n",
      "2004-04-01          135                    -6.0                    -21.0                  6.0\n",
      "2004-05-01          125                   -10.0                     -4.0                  4.0\n",
      "2004-06-01          149                    24.0                     34.0                 14.0\n",
      "2004-07-01          170                    21.0                     -3.0                 22.0\n",
      "2004-08-01          170                     0.0                    -21.0                 22.0\n",
      "2004-09-01          158                   -12.0                    -12.0                 22.0\n",
      "2004-10-01          133                   -25.0                    -13.0                 14.0\n",
      "2004-11-01          114                   -19.0                      6.0                 10.0\n",
      "2004-12-01          140                    26.0                     45.0                 22.0\n",
      "2006-01-01          145                     5.0                    -21.0                 30.0\n",
      "2006-02-01          150                     5.0                      0.0                 24.0\n",
      "2006-03-01          178                    28.0                     23.0                 37.0\n",
      "2006-04-01          163                   -15.0                    -43.0                 28.0\n",
      "2006-05-01          172                     9.0                     24.0                 47.0\n",
      "2006-06-01          178                     6.0                     -3.0                 29.0\n",
      "2006-07-01          199                    21.0                     15.0                 29.0\n",
      "2006-08-01          199                     0.0                    -21.0                 29.0\n",
      "2006-09-01          184                   -15.0                    -15.0                 26.0\n",
      "2006-10-01          162                   -22.0                     -7.0                 29.0\n",
      "2006-11-01          146                   -16.0                      6.0                 32.0\n",
      "2006-12-01          166                    20.0                     36.0                 26.0\n",
      "2007-01-01          171                     5.0                    -15.0                 26.0\n",
      "2007-02-01          180                     9.0                      4.0                 30.0\n",
      "2007-03-01          193                    13.0                      4.0                 15.0\n",
      "2007-04-01          181                   -12.0                    -25.0                 18.0\n",
      "2007-05-01          183                     2.0                     14.0                 11.0\n",
      "2007-06-01          218                    35.0                     33.0                 40.0\n",
      "2007-07-01          230                    12.0                    -23.0                 31.0\n",
      "2007-08-01          242                    12.0                      0.0                 43.0\n",
      "2007-09-01          209                   -33.0                    -45.0                 25.0\n",
      "2007-10-01          191                   -18.0                     15.0                 29.0\n",
      "2007-11-01          172                   -19.0                     -1.0                 26.0\n",
      "2007-12-01          194                    22.0                     41.0                 28.0\n",
      "2008-01-01          196                     2.0                    -20.0                 25.0\n",
      "2008-02-01          196                     0.0                     -2.0                 16.0\n",
      "2008-03-01          236                    40.0                     40.0                 43.0\n",
      "2008-04-01          235                    -1.0                    -41.0                 54.0\n",
      "2008-05-01          229                    -6.0                     -5.0                 46.0\n",
      "2008-06-01          243                    14.0                     20.0                 25.0\n",
      "2008-07-01          264                    21.0                      7.0                 34.0\n",
      "2008-08-01          272                     8.0                    -13.0                 30.0\n",
      "2008-09-01          237                   -35.0                    -43.0                 28.0\n",
      "2008-10-01          211                   -26.0                      9.0                 20.0\n",
      "2008-11-01          180                   -31.0                     -5.0                  8.0\n",
      "2008-12-01          201                    21.0                     52.0                  7.0\n",
      "2009-01-01          204                     3.0                    -18.0                  8.0\n",
      "2009-02-01          188                   -16.0                    -19.0                 -8.0\n",
      "2009-03-01          235                    47.0                     63.0                 -1.0\n",
      "2009-04-01          227                    -8.0                    -55.0                 -8.0\n",
      "2009-05-01          234                     7.0                     15.0                  5.0\n",
      "2009-06-01          264                    30.0                     23.0                 21.0\n",
      "2009-07-01          302                    38.0                      8.0                 38.0\n",
      "2009-08-01          293                    -9.0                    -47.0                 21.0\n",
      "2009-09-01          259                   -34.0                    -25.0                 22.0\n",
      "2009-10-01          229                   -30.0                      4.0                 18.0\n",
      "2009-11-01          203                   -26.0                      4.0                 23.0\n",
      "2009-12-01          229                    26.0                     52.0                 28.0\n",
      "2010-01-01          242                    13.0                    -13.0                 38.0\n",
      "2010-02-01          233                    -9.0                    -22.0                 45.0\n",
      "2010-03-01          267                    34.0                     43.0                 32.0\n",
      "2010-04-01          269                     2.0                    -32.0                 42.0\n",
      "2010-05-01          270                     1.0                     -1.0                 36.0\n",
      "2010-06-01          315                    45.0                     44.0                 51.0\n",
      "2010-07-01          364                    49.0                      4.0                 62.0\n",
      "2010-08-01          347                   -17.0                    -66.0                 54.0\n",
      "2010-09-01          312                   -35.0                    -18.0                 53.0\n",
      "2010-10-01          274                   -38.0                     -3.0                 45.0\n",
      "2010-11-01          237                   -37.0                      1.0                 34.0\n",
      "2010-12-01          278                    41.0                     78.0                 49.0\n",
      "2011-01-01          284                     6.0                    -35.0                 42.0\n",
      "2011-02-01          277                    -7.0                    -13.0                 44.0\n",
      "2011-03-01          317                    40.0                     47.0                 50.0\n",
      "2011-04-01          313                    -4.0                    -44.0                 44.0\n",
      "2011-05-01          318                     5.0                      9.0                 48.0\n",
      "2011-06-01          374                    56.0                     51.0                 59.0\n",
      "2011-07-01          413                    39.0                    -17.0                 49.0\n",
      "2011-08-01          405                    -8.0                    -47.0                 58.0\n",
      "2011-09-01          355                   -50.0                    -42.0                 43.0\n",
      "2011-10-01          306                   -49.0                      1.0                 32.0\n",
      "2011-11-01          271                   -35.0                     14.0                 34.0\n",
      "2011-12-01          306                    35.0                     70.0                 28.0\n",
      "2012-01-01          315                     9.0                    -26.0                 31.0\n",
      "2012-02-01          301                   -14.0                    -23.0                 24.0\n",
      "2012-03-01          356                    55.0                     69.0                 39.0\n",
      "2012-04-01          348                    -8.0                    -63.0                 35.0\n",
      "2012-05-01          355                     7.0                     15.0                 37.0\n",
      "2012-06-01          422                    67.0                     60.0                 48.0\n",
      "2012-07-01          465                    43.0                    -24.0                 52.0\n",
      "2012-08-01          467                     2.0                    -41.0                 62.0\n",
      "2012-09-01          404                   -63.0                    -65.0                 49.0\n",
      "2012-10-01          347                   -57.0                      6.0                 41.0\n",
      "2012-11-01          305                   -42.0                     15.0                 34.0\n",
      "2012-12-01          336                    31.0                     73.0                 30.0\n",
      "2013-01-01          340                     4.0                    -27.0                 25.0\n",
      "2013-02-01          318                   -22.0                    -26.0                 17.0\n",
      "2013-03-01          362                    44.0                     66.0                  6.0\n",
      "2013-04-01          348                   -14.0                    -58.0                  0.0\n",
      "2013-05-01          363                    15.0                     29.0                  8.0\n",
      "2013-06-01          435                    72.0                     57.0                 13.0\n",
      "2013-07-01          491                    56.0                    -16.0                 26.0\n",
      "2013-08-01          505                    14.0                    -42.0                 38.0\n",
      "2013-09-01          404                  -101.0                   -115.0                  0.0\n",
      "2013-10-01          359                   -45.0                     56.0                 12.0\n",
      "2013-11-01          310                   -49.0                     -4.0                  5.0\n",
      "2013-12-01          337                    27.0                     76.0                  1.0\n",
      "2014-01-01          360                    23.0                     -4.0                 20.0\n",
      "2014-02-01          342                   -18.0                    -41.0                 24.0\n",
      "2014-03-01          406                    64.0                     82.0                 44.0\n",
      "2014-04-01          396                   -10.0                    -74.0                 48.0\n",
      "2014-05-01          420                    24.0                     34.0                 57.0\n",
      "2014-06-01          472                    52.0                     28.0                 37.0\n",
      "2014-07-01          548                    76.0                     24.0                 57.0\n",
      "2014-08-01          559                    11.0                    -65.0                 54.0\n",
      "2014-09-01          463                   -96.0                   -107.0                 59.0\n",
      "2014-10-01          407                   -56.0                     40.0                 48.0\n",
      "2014-11-01          362                   -45.0                     11.0                 52.0\n",
      "2014-12-01          405                    43.0                     88.0                 68.0\n",
      "2015-01-01          417                    12.0                    -31.0                 57.0\n",
      "2015-02-01          391                   -26.0                    -38.0                 49.0\n",
      "2015-03-01          419                    28.0                     54.0                 13.0\n",
      "2015-04-01          461                    42.0                     14.0                 65.0\n",
      "2015-05-01          472                    11.0                    -31.0                 52.0\n",
      "2015-06-01          535                    63.0                     52.0                 63.0\n",
      "2015-07-01          622                    87.0                     24.0                 74.0\n",
      "2015-08-01          606                   -16.0                   -103.0                 47.0\n",
      "2015-09-01          508                   -98.0                    -82.0                 45.0\n",
      "2015-10-01          461                   -47.0                     51.0                 54.0\n",
      "2015-11-01          390                   -71.0                    -24.0                 28.0\n",
      "2015-12-01          432                    42.0                    113.0                 27.0\n"
     ]
    }
   ],
   "source": [
    "print(df.to_string())"
   ]
  },
  {
   "cell_type": "code",
   "execution_count": 42,
   "id": "20679b62",
   "metadata": {},
   "outputs": [
    {
     "data": {
      "text/html": [
       "<div>\n",
       "<style scoped>\n",
       "    .dataframe tbody tr th:only-of-type {\n",
       "        vertical-align: middle;\n",
       "    }\n",
       "\n",
       "    .dataframe tbody tr th {\n",
       "        vertical-align: top;\n",
       "    }\n",
       "\n",
       "    .dataframe thead th {\n",
       "        text-align: right;\n",
       "    }\n",
       "</style>\n",
       "<table border=\"1\" class=\"dataframe\">\n",
       "  <thead>\n",
       "    <tr style=\"text-align: right;\">\n",
       "      <th></th>\n",
       "      <th>#Passengers</th>\n",
       "      <th>#Passengers first diff</th>\n",
       "      <th>#Passengers second diff</th>\n",
       "      <th>seasonal first diff</th>\n",
       "    </tr>\n",
       "    <tr>\n",
       "      <th>Month</th>\n",
       "      <th></th>\n",
       "      <th></th>\n",
       "      <th></th>\n",
       "      <th></th>\n",
       "    </tr>\n",
       "  </thead>\n",
       "  <tbody>\n",
       "    <tr>\n",
       "      <th>2003-01-01</th>\n",
       "      <td>112</td>\n",
       "      <td>NaN</td>\n",
       "      <td>NaN</td>\n",
       "      <td>NaN</td>\n",
       "    </tr>\n",
       "    <tr>\n",
       "      <th>2003-02-01</th>\n",
       "      <td>118</td>\n",
       "      <td>6.0</td>\n",
       "      <td>NaN</td>\n",
       "      <td>NaN</td>\n",
       "    </tr>\n",
       "    <tr>\n",
       "      <th>2003-03-01</th>\n",
       "      <td>132</td>\n",
       "      <td>14.0</td>\n",
       "      <td>8.0</td>\n",
       "      <td>NaN</td>\n",
       "    </tr>\n",
       "    <tr>\n",
       "      <th>2003-04-01</th>\n",
       "      <td>129</td>\n",
       "      <td>-3.0</td>\n",
       "      <td>-17.0</td>\n",
       "      <td>NaN</td>\n",
       "    </tr>\n",
       "    <tr>\n",
       "      <th>2003-05-01</th>\n",
       "      <td>121</td>\n",
       "      <td>-8.0</td>\n",
       "      <td>-5.0</td>\n",
       "      <td>NaN</td>\n",
       "    </tr>\n",
       "    <tr>\n",
       "      <th>...</th>\n",
       "      <td>...</td>\n",
       "      <td>...</td>\n",
       "      <td>...</td>\n",
       "      <td>...</td>\n",
       "    </tr>\n",
       "    <tr>\n",
       "      <th>2015-08-01</th>\n",
       "      <td>606</td>\n",
       "      <td>-16.0</td>\n",
       "      <td>-103.0</td>\n",
       "      <td>47.0</td>\n",
       "    </tr>\n",
       "    <tr>\n",
       "      <th>2015-09-01</th>\n",
       "      <td>508</td>\n",
       "      <td>-98.0</td>\n",
       "      <td>-82.0</td>\n",
       "      <td>45.0</td>\n",
       "    </tr>\n",
       "    <tr>\n",
       "      <th>2015-10-01</th>\n",
       "      <td>461</td>\n",
       "      <td>-47.0</td>\n",
       "      <td>51.0</td>\n",
       "      <td>54.0</td>\n",
       "    </tr>\n",
       "    <tr>\n",
       "      <th>2015-11-01</th>\n",
       "      <td>390</td>\n",
       "      <td>-71.0</td>\n",
       "      <td>-24.0</td>\n",
       "      <td>28.0</td>\n",
       "    </tr>\n",
       "    <tr>\n",
       "      <th>2015-12-01</th>\n",
       "      <td>432</td>\n",
       "      <td>42.0</td>\n",
       "      <td>113.0</td>\n",
       "      <td>27.0</td>\n",
       "    </tr>\n",
       "  </tbody>\n",
       "</table>\n",
       "<p>144 rows × 4 columns</p>\n",
       "</div>"
      ],
      "text/plain": [
       "            #Passengers  #Passengers first diff  #Passengers second diff  \\\n",
       "Month                                                                      \n",
       "2003-01-01          112                     NaN                      NaN   \n",
       "2003-02-01          118                     6.0                      NaN   \n",
       "2003-03-01          132                    14.0                      8.0   \n",
       "2003-04-01          129                    -3.0                    -17.0   \n",
       "2003-05-01          121                    -8.0                     -5.0   \n",
       "...                 ...                     ...                      ...   \n",
       "2015-08-01          606                   -16.0                   -103.0   \n",
       "2015-09-01          508                   -98.0                    -82.0   \n",
       "2015-10-01          461                   -47.0                     51.0   \n",
       "2015-11-01          390                   -71.0                    -24.0   \n",
       "2015-12-01          432                    42.0                    113.0   \n",
       "\n",
       "            seasonal first diff  \n",
       "Month                            \n",
       "2003-01-01                  NaN  \n",
       "2003-02-01                  NaN  \n",
       "2003-03-01                  NaN  \n",
       "2003-04-01                  NaN  \n",
       "2003-05-01                  NaN  \n",
       "...                         ...  \n",
       "2015-08-01                 47.0  \n",
       "2015-09-01                 45.0  \n",
       "2015-10-01                 54.0  \n",
       "2015-11-01                 28.0  \n",
       "2015-12-01                 27.0  \n",
       "\n",
       "[144 rows x 4 columns]"
      ]
     },
     "execution_count": 42,
     "metadata": {},
     "output_type": "execute_result"
    }
   ],
   "source": [
    "df"
   ]
  },
  {
   "cell_type": "code",
   "execution_count": 43,
   "id": "55ea4797",
   "metadata": {},
   "outputs": [
    {
     "name": "stdout",
     "output_type": "stream",
     "text": [
      "ADF TEST DETAILS\n",
      "adf test statistic:-3.38302072649248\n",
      "p.value:0.011551493085515008\n",
      "#lags:1\n",
      "no.of obs:130\n",
      "stationarity\n"
     ]
    }
   ],
   "source": [
    "check(df['seasonal first diff'].dropna())"
   ]
  },
  {
   "cell_type": "code",
   "execution_count": 44,
   "id": "a189dc8e",
   "metadata": {},
   "outputs": [],
   "source": [
    "###ACF"
   ]
  },
  {
   "cell_type": "code",
   "execution_count": 45,
   "id": "6d176171",
   "metadata": {},
   "outputs": [
    {
     "name": "stderr",
     "output_type": "stream",
     "text": [
      "C:\\Anaconda\\lib\\site-packages\\statsmodels\\regression\\linear_model.py:1434: RuntimeWarning: invalid value encountered in sqrt\n",
      "  return rho, np.sqrt(sigmasq)\n"
     ]
    },
    {
     "data": {
      "image/png": "[encoded data removed]",
      "text/plain": [
       "<Figure size 432x288 with 1 Axes>"
      ]
     },
     "execution_count": 45,
     "metadata": {},
     "output_type": "execute_result"
    },
    {
     "data": {
      "image/png": "[encoded data removed]",
      "text/plain": [
       "<Figure size 432x288 with 1 Axes>"
      ]
     },
     "metadata": {
      "needs_background": "light"
     },
     "output_type": "display_data"
    }
   ],
   "source": [
    "from statsmodels.graphics.tsaplots import plot_pacf,plot_acf\n",
    "plot_pacf(df['#Passengers second diff'].dropna())"
   ]
  },
  {
   "cell_type": "code",
   "execution_count": 46,
   "id": "4cdbbe99",
   "metadata": {},
   "outputs": [
    {
     "data": {
      "image/png": "[encoded data removed]",
      "text/plain": [
       "<Figure size 432x288 with 1 Axes>"
      ]
     },
     "execution_count": 46,
     "metadata": {},
     "output_type": "execute_result"
    },
    {
     "data": {
      "image/png": "[encoded data removed]",
      "text/plain": [
       "<Figure size 432x288 with 1 Axes>"
      ]
     },
     "metadata": {
      "needs_background": "light"
     },
     "output_type": "display_data"
    }
   ],
   "source": [
    "plot_pacf(df['seasonal first diff'].dropna())"
   ]
  },
  {
   "cell_type": "code",
   "execution_count": 47,
   "id": "c962cc2c",
   "metadata": {},
   "outputs": [
    {
     "data": {
      "image/png": "[encoded data removed]",
      "text/plain": [
       "<Figure size 432x288 with 1 Axes>"
      ]
     },
     "execution_count": 47,
     "metadata": {},
     "output_type": "execute_result"
    },
    {
     "data": {
      "image/png": "[encoded data removed]",
      "text/plain": [
       "<Figure size 432x288 with 1 Axes>"
      ]
     },
     "metadata": {
      "needs_background": "light"
     },
     "output_type": "display_data"
    }
   ],
   "source": [
    "plot_acf(df['#Passengers second diff'].dropna())"
   ]
  },
  {
   "cell_type": "code",
   "execution_count": 48,
   "id": "abb077be",
   "metadata": {},
   "outputs": [
    {
     "data": {
      "image/png": "[encoded data removed]",
      "text/plain": [
       "<Figure size 432x288 with 1 Axes>"
      ]
     },
     "execution_count": 48,
     "metadata": {},
     "output_type": "execute_result"
    },
    {
     "data": {
      "image/png": "[encoded data removed]",
      "text/plain": [
       "<Figure size 432x288 with 1 Axes>"
      ]
     },
     "metadata": {
      "needs_background": "light"
     },
     "output_type": "display_data"
    }
   ],
   "source": [
    "plot_acf(df['seasonal first diff'].dropna())"
   ]
  },
  {
   "cell_type": "code",
   "execution_count": 78,
   "id": "c3267bb1",
   "metadata": {},
   "outputs": [
    {
     "name": "stderr",
     "output_type": "stream",
     "text": [
      "C:\\Anaconda\\lib\\site-packages\\statsmodels\\tsa\\base\\tsa_model.py:581: ValueWarning: A date index has been provided, but it has no associated frequency information and so will be ignored when e.g. forecasting.\n",
      "  warnings.warn('A date index has been provided, but it has no'\n",
      "C:\\Anaconda\\lib\\site-packages\\statsmodels\\tsa\\base\\tsa_model.py:581: ValueWarning: A date index has been provided, but it has no associated frequency information and so will be ignored when e.g. forecasting.\n",
      "  warnings.warn('A date index has been provided, but it has no'\n"
     ]
    }
   ],
   "source": [
    "from statsmodels.tsa.arima_model import ARIMA\n",
    "import statsmodels.api as sm\n",
    "model=sm.tsa.statespace.SARIMAX(df['#Passengers'],order=(0,2,0),seasonal_order=(1,1,2,12))\n",
    "result=model.fit()"
   ]
  },
  {
   "cell_type": "code",
   "execution_count": 79,
   "id": "1df12735",
   "metadata": {},
   "outputs": [
    {
     "data": {
      "text/plain": [
       "<statsmodels.tsa.statespace.sarimax.SARIMAXResultsWrapper at 0x19c61a9a6a0>"
      ]
     },
     "execution_count": 79,
     "metadata": {},
     "output_type": "execute_result"
    }
   ],
   "source": [
    "result"
   ]
  },
  {
   "cell_type": "code",
   "execution_count": 80,
   "id": "8e2a5fcb",
   "metadata": {},
   "outputs": [
    {
     "data": {
      "text/html": [
       "<table class=\"simpletable\">\n",
       "<caption>SARIMAX Results</caption>\n",
       "<tr>\n",
       "  <th>Dep. Variable:</th>               <td>#Passengers</td>             <th>  No. Observations:  </th>    <td>144</td>  \n",
       "</tr>\n",
       "<tr>\n",
       "  <th>Model:</th>           <td>SARIMAX(0, 2, 0)x(1, 1, [1, 2], 12)</td> <th>  Log Likelihood     </th> <td>-570.452</td>\n",
       "</tr>\n",
       "<tr>\n",
       "  <th>Date:</th>                     <td>Fri, 31 Dec 2021</td>           <th>  AIC                </th> <td>1148.904</td>\n",
       "</tr>\n",
       "<tr>\n",
       "  <th>Time:</th>                         <td>00:09:40</td>               <th>  BIC                </th> <td>1160.374</td>\n",
       "</tr>\n",
       "<tr>\n",
       "  <th>Sample:</th>                           <td>0</td>                  <th>  HQIC               </th> <td>1153.565</td>\n",
       "</tr>\n",
       "<tr>\n",
       "  <th></th>                               <td> - 144</td>                <th>                     </th>     <td> </td>   \n",
       "</tr>\n",
       "<tr>\n",
       "  <th>Covariance Type:</th>                 <td>opg</td>                 <th>                     </th>     <td> </td>   \n",
       "</tr>\n",
       "</table>\n",
       "<table class=\"simpletable\">\n",
       "<tr>\n",
       "      <td></td>        <th>coef</th>     <th>std err</th>      <th>z</th>      <th>P>|z|</th>  <th>[0.025</th>    <th>0.975]</th>  \n",
       "</tr>\n",
       "<tr>\n",
       "  <th>ar.S.L12</th> <td>    0.1900</td> <td>    1.817</td> <td>    0.105</td> <td> 0.917</td> <td>   -3.371</td> <td>    3.751</td>\n",
       "</tr>\n",
       "<tr>\n",
       "  <th>ma.S.L12</th> <td>   -0.4476</td> <td>    1.802</td> <td>   -0.248</td> <td> 0.804</td> <td>   -3.979</td> <td>    3.084</td>\n",
       "</tr>\n",
       "<tr>\n",
       "  <th>ma.S.L24</th> <td>   -0.0328</td> <td>    0.521</td> <td>   -0.063</td> <td> 0.950</td> <td>   -1.054</td> <td>    0.988</td>\n",
       "</tr>\n",
       "<tr>\n",
       "  <th>sigma2</th>   <td>  375.8253</td> <td>   37.926</td> <td>    9.910</td> <td> 0.000</td> <td>  301.492</td> <td>  450.158</td>\n",
       "</tr>\n",
       "</table>\n",
       "<table class=\"simpletable\">\n",
       "<tr>\n",
       "  <th>Ljung-Box (L1) (Q):</th>     <td>49.80</td> <th>  Jarque-Bera (JB):  </th> <td>38.73</td>\n",
       "</tr>\n",
       "<tr>\n",
       "  <th>Prob(Q):</th>                <td>0.00</td>  <th>  Prob(JB):          </th> <td>0.00</td> \n",
       "</tr>\n",
       "<tr>\n",
       "  <th>Heteroskedasticity (H):</th> <td>2.76</td>  <th>  Skew:              </th> <td>0.19</td> \n",
       "</tr>\n",
       "<tr>\n",
       "  <th>Prob(H) (two-sided):</th>    <td>0.00</td>  <th>  Kurtosis:          </th> <td>5.65</td> \n",
       "</tr>\n",
       "</table><br/><br/>Warnings:<br/>[1] Covariance matrix calculated using the outer product of gradients (complex-step)."
      ],
      "text/plain": [
       "<class 'statsmodels.iolib.summary.Summary'>\n",
       "\"\"\"\n",
       "                                        SARIMAX Results                                        \n",
       "===============================================================================================\n",
       "Dep. Variable:                             #Passengers   No. Observations:                  144\n",
       "Model:             SARIMAX(0, 2, 0)x(1, 1, [1, 2], 12)   Log Likelihood                -570.452\n",
       "Date:                                 Fri, 31 Dec 2021   AIC                           1148.904\n",
       "Time:                                         00:09:40   BIC                           1160.374\n",
       "Sample:                                              0   HQIC                          1153.565\n",
       "                                                 - 144                                         \n",
       "Covariance Type:                                   opg                                         \n",
       "==============================================================================\n",
       "                 coef    std err          z      P>|z|      [0.025      0.975]\n",
       "------------------------------------------------------------------------------\n",
       "ar.S.L12       0.1900      1.817      0.105      0.917      -3.371       3.751\n",
       "ma.S.L12      -0.4476      1.802     -0.248      0.804      -3.979       3.084\n",
       "ma.S.L24      -0.0328      0.521     -0.063      0.950      -1.054       0.988\n",
       "sigma2       375.8253     37.926      9.910      0.000     301.492     450.158\n",
       "===================================================================================\n",
       "Ljung-Box (L1) (Q):                  49.80   Jarque-Bera (JB):                38.73\n",
       "Prob(Q):                              0.00   Prob(JB):                         0.00\n",
       "Heteroskedasticity (H):               2.76   Skew:                             0.19\n",
       "Prob(H) (two-sided):                  0.00   Kurtosis:                         5.65\n",
       "===================================================================================\n",
       "\n",
       "Warnings:\n",
       "[1] Covariance matrix calculated using the outer product of gradients (complex-step).\n",
       "\"\"\""
      ]
     },
     "execution_count": 80,
     "metadata": {},
     "output_type": "execute_result"
    }
   ],
   "source": [
    "result.summary()"
   ]
  },
  {
   "cell_type": "code",
   "execution_count": 83,
   "id": "088ac496",
   "metadata": {},
   "outputs": [],
   "source": [
    "df1['forecast']=result.predict(start=df.index[120],end=df.index[141])"
   ]
  },
  {
   "cell_type": "code",
   "execution_count": 84,
   "id": "91a9d63d",
   "metadata": {},
   "outputs": [
    {
     "data": {
      "text/html": [
       "<div>\n",
       "<style scoped>\n",
       "    .dataframe tbody tr th:only-of-type {\n",
       "        vertical-align: middle;\n",
       "    }\n",
       "\n",
       "    .dataframe tbody tr th {\n",
       "        vertical-align: top;\n",
       "    }\n",
       "\n",
       "    .dataframe thead th {\n",
       "        text-align: right;\n",
       "    }\n",
       "</style>\n",
       "<table border=\"1\" class=\"dataframe\">\n",
       "  <thead>\n",
       "    <tr style=\"text-align: right;\">\n",
       "      <th></th>\n",
       "      <th>#Passengers</th>\n",
       "      <th>#Passengers first diff</th>\n",
       "      <th>#Passengers second diff</th>\n",
       "      <th>seasonal first diff</th>\n",
       "      <th>forecast</th>\n",
       "    </tr>\n",
       "    <tr>\n",
       "      <th>Month</th>\n",
       "      <th></th>\n",
       "      <th></th>\n",
       "      <th></th>\n",
       "      <th></th>\n",
       "      <th></th>\n",
       "    </tr>\n",
       "  </thead>\n",
       "  <tbody>\n",
       "    <tr>\n",
       "      <th>2003-01-01</th>\n",
       "      <td>112</td>\n",
       "      <td>NaN</td>\n",
       "      <td>NaN</td>\n",
       "      <td>NaN</td>\n",
       "      <td>NaN</td>\n",
       "    </tr>\n",
       "    <tr>\n",
       "      <th>2003-02-01</th>\n",
       "      <td>118</td>\n",
       "      <td>6.0</td>\n",
       "      <td>NaN</td>\n",
       "      <td>NaN</td>\n",
       "      <td>NaN</td>\n",
       "    </tr>\n",
       "    <tr>\n",
       "      <th>2003-03-01</th>\n",
       "      <td>132</td>\n",
       "      <td>14.0</td>\n",
       "      <td>8.0</td>\n",
       "      <td>NaN</td>\n",
       "      <td>NaN</td>\n",
       "    </tr>\n",
       "    <tr>\n",
       "      <th>2003-04-01</th>\n",
       "      <td>129</td>\n",
       "      <td>-3.0</td>\n",
       "      <td>-17.0</td>\n",
       "      <td>NaN</td>\n",
       "      <td>NaN</td>\n",
       "    </tr>\n",
       "    <tr>\n",
       "      <th>2003-05-01</th>\n",
       "      <td>121</td>\n",
       "      <td>-8.0</td>\n",
       "      <td>-5.0</td>\n",
       "      <td>NaN</td>\n",
       "      <td>NaN</td>\n",
       "    </tr>\n",
       "    <tr>\n",
       "      <th>...</th>\n",
       "      <td>...</td>\n",
       "      <td>...</td>\n",
       "      <td>...</td>\n",
       "      <td>...</td>\n",
       "      <td>...</td>\n",
       "    </tr>\n",
       "    <tr>\n",
       "      <th>2015-08-01</th>\n",
       "      <td>606</td>\n",
       "      <td>-16.0</td>\n",
       "      <td>-103.0</td>\n",
       "      <td>47.0</td>\n",
       "      <td>649.626491</td>\n",
       "    </tr>\n",
       "    <tr>\n",
       "      <th>2015-09-01</th>\n",
       "      <td>508</td>\n",
       "      <td>-98.0</td>\n",
       "      <td>-82.0</td>\n",
       "      <td>45.0</td>\n",
       "      <td>490.734201</td>\n",
       "    </tr>\n",
       "    <tr>\n",
       "      <th>2015-10-01</th>\n",
       "      <td>461</td>\n",
       "      <td>-47.0</td>\n",
       "      <td>51.0</td>\n",
       "      <td>54.0</td>\n",
       "      <td>446.349215</td>\n",
       "    </tr>\n",
       "    <tr>\n",
       "      <th>2015-11-01</th>\n",
       "      <td>390</td>\n",
       "      <td>-71.0</td>\n",
       "      <td>-24.0</td>\n",
       "      <td>28.0</td>\n",
       "      <td>NaN</td>\n",
       "    </tr>\n",
       "    <tr>\n",
       "      <th>2015-12-01</th>\n",
       "      <td>432</td>\n",
       "      <td>42.0</td>\n",
       "      <td>113.0</td>\n",
       "      <td>27.0</td>\n",
       "      <td>NaN</td>\n",
       "    </tr>\n",
       "  </tbody>\n",
       "</table>\n",
       "<p>144 rows × 5 columns</p>\n",
       "</div>"
      ],
      "text/plain": [
       "            #Passengers  #Passengers first diff  #Passengers second diff  \\\n",
       "Month                                                                      \n",
       "2003-01-01          112                     NaN                      NaN   \n",
       "2003-02-01          118                     6.0                      NaN   \n",
       "2003-03-01          132                    14.0                      8.0   \n",
       "2003-04-01          129                    -3.0                    -17.0   \n",
       "2003-05-01          121                    -8.0                     -5.0   \n",
       "...                 ...                     ...                      ...   \n",
       "2015-08-01          606                   -16.0                   -103.0   \n",
       "2015-09-01          508                   -98.0                    -82.0   \n",
       "2015-10-01          461                   -47.0                     51.0   \n",
       "2015-11-01          390                   -71.0                    -24.0   \n",
       "2015-12-01          432                    42.0                    113.0   \n",
       "\n",
       "            seasonal first diff    forecast  \n",
       "Month                                        \n",
       "2003-01-01                  NaN         NaN  \n",
       "2003-02-01                  NaN         NaN  \n",
       "2003-03-01                  NaN         NaN  \n",
       "2003-04-01                  NaN         NaN  \n",
       "2003-05-01                  NaN         NaN  \n",
       "...                         ...         ...  \n",
       "2015-08-01                 47.0  649.626491  \n",
       "2015-09-01                 45.0  490.734201  \n",
       "2015-10-01                 54.0  446.349215  \n",
       "2015-11-01                 28.0         NaN  \n",
       "2015-12-01                 27.0         NaN  \n",
       "\n",
       "[144 rows x 5 columns]"
      ]
     },
     "execution_count": 84,
     "metadata": {},
     "output_type": "execute_result"
    }
   ],
   "source": [
    "df1"
   ]
  },
  {
   "cell_type": "code",
   "execution_count": 76,
   "id": "68e3b4a3",
   "metadata": {},
   "outputs": [
    {
     "data": {
      "text/plain": [
       "144"
      ]
     },
     "execution_count": 76,
     "metadata": {},
     "output_type": "execute_result"
    }
   ],
   "source": [
    "len(df)"
   ]
  },
  {
   "cell_type": "code",
   "execution_count": 85,
   "id": "887d1bdb",
   "metadata": {},
   "outputs": [
    {
     "data": {
      "text/plain": [
       "<AxesSubplot:xlabel='Month'>"
      ]
     },
     "execution_count": 85,
     "metadata": {},
     "output_type": "execute_result"
    },
    {
     "data": {
      "image/png": "[encoded data removed]",
      "text/plain": [
       "<Figure size 432x288 with 1 Axes>"
      ]
     },
     "metadata": {
      "needs_background": "light"
     },
     "output_type": "display_data"
    }
   ],
   "source": [
    "df[['#Passengers','forecast']].plot()"
   ]
  },
  {
   "cell_type": "code",
   "execution_count": 93,
   "id": "faa9a4d2",
   "metadata": {},
   "outputs": [
    {
     "data": {
      "text/html": [
       "<div>\n",
       "<style scoped>\n",
       "    .dataframe tbody tr th:only-of-type {\n",
       "        vertical-align: middle;\n",
       "    }\n",
       "\n",
       "    .dataframe tbody tr th {\n",
       "        vertical-align: top;\n",
       "    }\n",
       "\n",
       "    .dataframe thead th {\n",
       "        text-align: right;\n",
       "    }\n",
       "</style>\n",
       "<table border=\"1\" class=\"dataframe\">\n",
       "  <thead>\n",
       "    <tr style=\"text-align: right;\">\n",
       "      <th></th>\n",
       "      <th>DATE</th>\n",
       "    </tr>\n",
       "  </thead>\n",
       "  <tbody>\n",
       "    <tr>\n",
       "      <th>0</th>\n",
       "      <td>2003/1/2</td>\n",
       "    </tr>\n",
       "    <tr>\n",
       "      <th>1</th>\n",
       "      <td>2003/1/2</td>\n",
       "    </tr>\n",
       "    <tr>\n",
       "      <th>2</th>\n",
       "      <td>2003/1/2</td>\n",
       "    </tr>\n",
       "  </tbody>\n",
       "</table>\n",
       "</div>"
      ],
      "text/plain": [
       "       DATE\n",
       "0  2003/1/2\n",
       "1  2003/1/2\n",
       "2  2003/1/2"
      ]
     },
     "execution_count": 93,
     "metadata": {},
     "output_type": "execute_result"
    }
   ],
   "source": [
    "dates=({'DATE':['2003/1/2','2003/1/2','2003/1/2']})\n",
    "df=pd.DataFrame(dates)\n",
    "df"
   ]
  },
  {
   "cell_type": "code",
   "execution_count": 104,
   "id": "f343f259",
   "metadata": {},
   "outputs": [
    {
     "data": {
      "text/plain": [
       "[2]"
      ]
     },
     "execution_count": 104,
     "metadata": {},
     "output_type": "execute_result"
    }
   ],
   "source": [
    "from pandas.tseries.offsets import DateOffset\n",
    "future_date"
   ]
  },
  {
   "cell_type": "code",
   "execution_count": 102,
   "id": "40fe5093",
   "metadata": {},
   "outputs": [
    {
     "name": "stdout",
     "output_type": "stream",
     "text": [
      "       DATE\n",
      "0  2003/1/2\n",
      "1  2003/1/2\n",
      "2  2003/1/2\n"
     ]
    }
   ],
   "source": []
  },
  {
   "cell_type": "code",
   "execution_count": null,
   "id": "0ecbeb07",
   "metadata": {},
   "outputs": [],
   "source": []
  },
  {
   "cell_type": "code",
   "execution_count": null,
   "id": "5165d8fc",
   "metadata": {},
   "outputs": [],
   "source": []
  }
 ],
 "metadata": {
  "kernelspec": {
   "display_name": "Python 3 (ipykernel)",
   "language": "python",
   "name": "python3"
  },
  "language_info": {
   "codemirror_mode": {
    "name": "ipython",
    "version": 3
   },
   "file_extension": ".py",
   "mimetype": "text/x-python",
   "name": "python",
   "nbconvert_exporter": "python",
   "pygments_lexer": "ipython3",
   "version": "3.9.7"
  }
 },
 "nbformat": 4,
 "nbformat_minor": 5
}
